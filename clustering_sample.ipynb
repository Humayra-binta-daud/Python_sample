{
 "cells": [
  {
   "cell_type": "code",
   "execution_count": 1,
   "metadata": {},
   "outputs": [
    {
     "name": "stderr",
     "output_type": "stream",
     "text": [
      "C:\\Users\\User\\AppData\\Local\\Temp\\ipykernel_11224\\1380717090.py:2: DeprecationWarning: \n",
      "Pyarrow will become a required dependency of pandas in the next major release of pandas (pandas 3.0),\n",
      "(to allow more performant data types, such as the Arrow string type, and better interoperability with other libraries)\n",
      "but was not found to be installed on your system.\n",
      "If this would cause problems for you,\n",
      "please provide us feedback at https://github.com/pandas-dev/pandas/issues/54466\n",
      "        \n",
      "  import pandas as pd;\n"
     ]
    }
   ],
   "source": [
    "#import libraries\n",
    "import pandas as pd;\n",
    "import numpy as np;\n",
    "import matplotlib.pyplot as plt;\n",
    "import sklearn;\n",
    "import seaborn as sns"
   ]
  },
  {
   "cell_type": "code",
   "execution_count": 2,
   "metadata": {},
   "outputs": [],
   "source": [
    "#Preprocissimg\n",
    "cos_data=pd.read_csv('tsne_csv/cosmetics.csv')\n",
    "from sklearn.preprocessing import StandardScaler\n",
    "cos_cleaned=cos_data.select_dtypes(include=['float64', 'int64'])\n",
    "scaler = StandardScaler()\n",
    "scaled_data = scaler.fit_transform(cos_cleaned)\n"
   ]
  },
  {
   "cell_type": "code",
   "execution_count": 4,
   "metadata": {},
   "outputs": [
    {
     "name": "stdout",
     "output_type": "stream",
     "text": [
      "         Label           Brand                                           Name  \\\n",
      "0  Moisturizer          LA MER                                Crème de la Mer   \n",
      "1  Moisturizer           SK-II                       Facial Treatment Essence   \n",
      "2  Moisturizer  DRUNK ELEPHANT                     Protini™ Polypeptide Cream   \n",
      "3  Moisturizer          LA MER                    The Moisturizing Soft Cream   \n",
      "4  Moisturizer    IT COSMETICS  Your Skin But Better™ CC+™ Cream with SPF 50+   \n",
      "\n",
      "   Price  Rank                                        Ingredients  \\\n",
      "0    175   4.1  Algae (Seaweed) Extract, Mineral Oil, Petrolat...   \n",
      "1    179   4.1  Galactomyces Ferment Filtrate (Pitera), Butyle...   \n",
      "2     68   4.4  Water, Dicaprylyl Carbonate, Glycerin, Ceteary...   \n",
      "3    175   3.8  Algae (Seaweed) Extract, Cyclopentasiloxane, P...   \n",
      "4     38   4.1  Water, Snail Secretion Filtrate, Phenyl Trimet...   \n",
      "\n",
      "   Combination  Dry  Normal  Oily  Sensitive  Cluster  \n",
      "0            1    1       1     1          1        0  \n",
      "1            1    1       1     1          1        0  \n",
      "2            1    1       1     1          0        1  \n",
      "3            1    1       1     1          1        0  \n",
      "4            1    1       1     1          1        0  \n"
     ]
    }
   ],
   "source": [
    "#K-means\n",
    "from sklearn.cluster import KMeans\n",
    "k = 3\n",
    "kmeans = KMeans(n_clusters=k, random_state=42)\n",
    "kmeans.fit(scaled_data)\n",
    "cos_data['Cluster'] = kmeans.labels_\n",
    "print(cos_data.head())\n"
   ]
  }
 ],
 "metadata": {
  "kernelspec": {
   "display_name": "Python 3",
   "language": "python",
   "name": "python3"
  },
  "language_info": {
   "codemirror_mode": {
    "name": "ipython",
    "version": 3
   },
   "file_extension": ".py",
   "mimetype": "text/x-python",
   "name": "python",
   "nbconvert_exporter": "python",
   "pygments_lexer": "ipython3",
   "version": "3.12.2"
  }
 },
 "nbformat": 4,
 "nbformat_minor": 2
}
